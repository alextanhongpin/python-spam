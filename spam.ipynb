{
 "cells": [
  {
   "cell_type": "code",
   "execution_count": 267,
   "metadata": {},
   "outputs": [],
   "source": [
    "# P(A|B) = P(B|A) * P(A) / P(B)\n",
    "p_A = 0\n",
    "p_not_A = 0\n",
    "\n",
    "train_positive = {}\n",
    "train_negative = {}\n",
    "\n",
    "positive_total = 0\n",
    "negative_total = 0"
   ]
  },
  {
   "cell_type": "code",
   "execution_count": 268,
   "metadata": {},
   "outputs": [],
   "source": [
    "def train(data):\n",
    "    global p_A, p_not_A\n",
    "    num_spam = 0\n",
    "    total = 0\n",
    "    for email in data:\n",
    "        if email['label'] == 'SPAM':\n",
    "            num_spam += 1\n",
    "        total += 1\n",
    "        process_email(email['body'], email['label'])\n",
    "    p_A = num_spam / float(total)\n",
    "    p_not_A = (total - num_spam) / float(total)\n",
    "\n",
    "# count the words in a specific email\n",
    "def process_email(body, label):\n",
    "    global positive_total, negative_total, train_positive, train_negative\n",
    "    for word in body:\n",
    "        if label == 'SPAM':\n",
    "            train_positive[word] = train_positive.get(word, 0) + 1\n",
    "            positive_total += 1\n",
    "        else:\n",
    "            train_negative[word] = train_negative.get(word, 0) + 1\n",
    "            negative_total += 1\n",
    "\n",
    "# Gives the conditional probability p(B_i | A_x)\n",
    "def conditional_word(word, spam):\n",
    "    global positive_total, negative_total, train_positive, train_negative\n",
    "    if positive_total == 0 or negative_total == 0:\n",
    "        return 0\n",
    "    if spam:\n",
    "        return train_positive.get(word, 0) / float(positive_total)\n",
    "    return train_negative.get(word, 0) / float(negative_total)\n",
    "\n",
    "# To get P(B | A_x) for an entire email, we simply take the product of the P(B_i | A_x) value for every word i in the email\n",
    "def conditional_email(body, spam):\n",
    "    result = 1.0\n",
    "    for word in body:\n",
    "        result *= conditional_word(word, spam)\n",
    "    return result\n",
    "\n",
    "# Predict whether an email is spam or not\n",
    "def predict(X):\n",
    "    is_spam = p_A * conditional_email(X, True)\n",
    "    not_spam = p_not_A * conditional_email(X, False)\n",
    "    return is_spam > not_spam"
   ]
  },
  {
   "cell_type": "code",
   "execution_count": 269,
   "metadata": {},
   "outputs": [
    {
     "name": "stdout",
     "output_type": "stream",
     "text": [
      "True\n",
      "False\n",
      "False\n"
     ]
    }
   ],
   "source": [
    "data = [\n",
    "    { 'body': ['spam', 'bad'], 'label': 'SPAM' },\n",
    "    { 'body': ['hello', 'world', 'buy'], 'label': 'NOT_SPAM' },\n",
    "]\n",
    "\n",
    "train(data)\n",
    "\n",
    "print(predict(['spam', 'bad']))\n",
    "print(predict(['world', 'hello', 'hello']))\n",
    "print(predict(['world', 'buy', 'spam']))"
   ]
  }
 ],
 "metadata": {
  "kernelspec": {
   "display_name": "Python 3",
   "language": "python",
   "name": "python3"
  },
  "language_info": {
   "codemirror_mode": {
    "name": "ipython",
    "version": 3
   },
   "file_extension": ".py",
   "mimetype": "text/x-python",
   "name": "python",
   "nbconvert_exporter": "python",
   "pygments_lexer": "ipython3",
   "version": "3.6.3"
  }
 },
 "nbformat": 4,
 "nbformat_minor": 2
}
